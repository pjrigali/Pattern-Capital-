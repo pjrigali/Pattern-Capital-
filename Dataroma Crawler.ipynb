{
 "cells": [
  {
   "cell_type": "markdown",
   "metadata": {},
   "source": [
    "# Dataroma Aggregator"
   ]
  },
  {
   "cell_type": "markdown",
   "metadata": {},
   "source": [
    "Load Modules"
   ]
  },
  {
   "cell_type": "code",
   "execution_count": 56,
   "metadata": {},
   "outputs": [],
   "source": [
    "import pandas as pd\n",
    "import numpy as np\n",
    "import re\n",
    "from collections import Counter"
   ]
  },
  {
   "cell_type": "markdown",
   "metadata": {},
   "source": [
    "Load Investor List"
   ]
  },
  {
   "cell_type": "code",
   "execution_count": 57,
   "metadata": {},
   "outputs": [],
   "source": [
    "def investorList():\n",
    "    dfs = pd.read_html('https://www.dataroma.com/m/managers.php',header=0)\n",
    "    investordf = pd.DataFrame()\n",
    "    count = 0\n",
    "    for i in dfs[0]['Portfolio Manager - Firm']:\n",
    "        count = count + 1\n",
    "        if ('-' in i) == True:\n",
    "            tempin = pd.DataFrame([[i.split('-',1)[1].lstrip(),i.split('-',1)[0].rstrip()]],index=[count],columns=['Firm','Investor'])\n",
    "        else:\n",
    "            tempin = pd.DataFrame([[i,'None']],index=[count],columns=['Firm','Investor'])\n",
    "        investordf = pd.concat([investordf,tempin])\n",
    "\n",
    "    investorlst = ['AIM','AV','GFT','psc','LMM','HRSVX','oaklx','fairx','ic','ARFFX','DJCO','tci','SA','cfimx','AC','tp','abc','GLRE','MAVFX',\n",
    "                   'WP','AM','DODGX','YAFFX','EL','FPPTX','ca','CCM','aq','SSHFX','oc','FEVAX','LUK','VA','CAAPX','KB','mc','oa','MPGFX',\n",
    "                   'hcmax','LLPFX','MVALX','SAM','MFP','PI','TF','DA','FFH','pzfvx','OFALX','TORYX','jensx','SEQUX','lmvtx','BAUPOST',\n",
    "                   'LPC','FPACX','FS','TA','MKL','GR','TVAFX','TWEBX','WVALX','BRK','cc']\n",
    "    investordf['ext'] = investorlst\n",
    "    return investordf"
   ]
  },
  {
   "cell_type": "code",
   "execution_count": 58,
   "metadata": {},
   "outputs": [],
   "source": [
    "lst = investorList()"
   ]
  },
  {
   "cell_type": "code",
   "execution_count": 59,
   "metadata": {},
   "outputs": [
    {
     "name": "stdout",
     "output_type": "stream",
     "text": [
      "                                    Firm      Investor  ext\n",
      "1         Atlantic Investment Management  Alex Roepers  AIM\n",
      "2                Arlington Value Capital  Allan Mecham   AV\n",
      "3  Bill & Melinda Gates Foundation Trust          None  GFT\n",
      "4     Pershing Square Capital Management   Bill Ackman  psc\n",
      "5                  Miller Value Partners   Bill Miller  LMM\n"
     ]
    }
   ],
   "source": [
    "print(lst.head())"
   ]
  },
  {
   "cell_type": "markdown",
   "metadata": {},
   "source": [
    "Get Investor Holdings"
   ]
  },
  {
   "cell_type": "code",
   "execution_count": 19,
   "metadata": {},
   "outputs": [],
   "source": [
    "def investorHoldings(ext,investordf):\n",
    "    ext = 'AIM'\n",
    "    Wholedf = pd.DataFrame()\n",
    "    dfs = pd.read_html('https://www.dataroma.com/m/hist/p_hist.php?f='+str(ext),header=0)\n",
    "    QuarterHoldings = []\n",
    "    for i in range(len(dfs[0])):\n",
    "        holdings = []\n",
    "        for j in list(range(1,20)):\n",
    "            if ((type(dfs[0]['Top 20 holdings history (left to right).'+str(j)].iloc[i]) != float) and (type(dfs[0]['Top 20 holdings history (left to right).'+str(j)].iloc[i]) != np.float64)):\n",
    "                if dfs[0]['Portfolio Value'].iloc[i].split(' ',1)[1] == 'B':\n",
    "                    portvalue = float(dfs[0]['Portfolio Value'].iloc[i].split(' ',1)[0].lstrip('$'))*1000000000\n",
    "                else:\n",
    "                    portvalue = float(dfs[0]['Portfolio Value'].iloc[i].split(' ',1)[0].lstrip('$'))*1000000\n",
    "                if len(dfs[0]['Top 20 holdings history (left to right).'+str(j)].iloc[i].split('%',1)[0].split('.',1)[1]) > 4:\n",
    "                    q = ''.join(c for c in dfs[0]['Top 20 holdings history (left to right).'+str(j)].iloc[i].split('%',1)[0].split('.',1)[1] if c.isdigit())\n",
    "                    if len(q) == 3:\n",
    "                        qq = float(q[0]+'.'+q[1:])\n",
    "                    else:\n",
    "                        qq = float(q[:1]+'.'+q[2:])\n",
    "                else:\n",
    "                    if len(dfs[0]['Top 20 holdings history (left to right).'+str(j)].iloc[i].split('%',1)[0].split('.',1)[1]) == 2:\n",
    "                        qq = float('0.'+dfs[0]['Top 20 holdings history (left to right).'+str(j)].iloc[i].split('%',1)[0].split('.',1)[1])\n",
    "                    else:\n",
    "                        qq = float(dfs[0]['Top 20 holdings history (left to right).'+str(j)].iloc[i].split('%',1)[0].split('.',1)[1])\n",
    "                holdings.append([dfs[0]['Top 20 holdings history (left to right).'+str(j)].iloc[i].split(' ',1)[0],int(portvalue * (qq/100))])\n",
    "            else:\n",
    "                continue\n",
    "        QuarterHoldings.append([[dfs[0]['Period'].iloc[i].split(' ', 2)[0]+' '+dfs[0]['Period'].iloc[i].split(' ',2)[2],int(portvalue)],holdings])\n",
    "    QHdf = pd.DataFrame()\n",
    "    count = len(QuarterHoldings)\n",
    "    for i in QuarterHoldings:\n",
    "        count = count - 1\n",
    "        ticker = []\n",
    "        amount = []\n",
    "        for j in i[1]:\n",
    "            ticker.append(j[0])\n",
    "            amount.append(j[1])\n",
    " \n",
    "        tempQHdf = pd.DataFrame(ticker,columns=['TICKER'])\n",
    "        tempQHdf['AMOUNT'] = amount    \n",
    "        tempQHdf['DATE'] = [i[0][0]]*len(tempQHdf)\n",
    "        tempQHdf['PortValue'] = [i[0][1]]*len(tempQHdf)\n",
    "        tempQHdf['count'] = count\n",
    "        tempQHdf = tempQHdf.set_index('count',drop=True)\n",
    "        tempQHdf['%'] = tempQHdf['AMOUNT']/tempQHdf['PortValue']\n",
    "        QHdf = pd.concat([QHdf,tempQHdf])\n",
    "\n",
    "    QHdf = QHdf.sort_index()\n",
    "    QHdf = QHdf.reset_index()\n",
    "    QHdf['Firm'] = list(investordf[investordf['ext'] == ext]['Firm'])*len(QHdf)\n",
    "    QHdf['Investor'] = list(investordf[investordf['ext'] == ext]['Investor'])*len(QHdf)\n",
    "    QHdf['ext'] = list(investordf[investordf['ext'] == ext]['ext'])*len(QHdf)\n",
    "    Wholedf = pd.concat([Wholedf,QHdf])\n",
    "    return Wholedf"
   ]
  },
  {
   "cell_type": "markdown",
   "metadata": {},
   "source": [
    "For this example we will pull Alex Roepers holdings using ext: AIM"
   ]
  },
  {
   "cell_type": "code",
   "execution_count": 20,
   "metadata": {},
   "outputs": [],
   "source": [
    "holdings = investorHoldings('AIM',lst)"
   ]
  },
  {
   "cell_type": "code",
   "execution_count": 22,
   "metadata": {},
   "outputs": [
    {
     "name": "stdout",
     "output_type": "stream",
     "text": [
      "   count TICKER    AMOUNT     DATE   PortValue       %  \\\n",
      "0      0    GEO  13310000  2012 Q1  1210000000  0.0110   \n",
      "1      0    JOY  17061000  2012 Q1  1210000000  0.0141   \n",
      "2      0    ENR  12463000  2012 Q1  1210000000  0.0103   \n",
      "3      0    ASH  22747999  2012 Q1  1210000000  0.0188   \n",
      "4      0    KMT  18392000  2012 Q1  1210000000  0.0152   \n",
      "\n",
      "                             Firm      Investor  ext  \n",
      "0  Atlantic Investment Management  Alex Roepers  AIM  \n",
      "1  Atlantic Investment Management  Alex Roepers  AIM  \n",
      "2  Atlantic Investment Management  Alex Roepers  AIM  \n",
      "3  Atlantic Investment Management  Alex Roepers  AIM  \n",
      "4  Atlantic Investment Management  Alex Roepers  AIM  \n"
     ]
    }
   ],
   "source": [
    "print(holdings.head())"
   ]
  },
  {
   "cell_type": "markdown",
   "metadata": {},
   "source": [
    "Get the S&P 500 Grid"
   ]
  },
  {
   "cell_type": "code",
   "execution_count": 25,
   "metadata": {},
   "outputs": [],
   "source": [
    "#S&P 500 Grid\n",
    "#gridType = ['Ownership','% of total portfolio','Last qtr buys','Last 6 months buys','Last qtr sells','Last 6 months sells']\n",
    "#returnType = ['List', 'DataFrame']\n",
    "def sp500Grid(gridType, returnType):\n",
    "    if gridType == 'Ownership':\n",
    "        df = pd.read_html('https://www.dataroma.com/m/grid.php')\n",
    "    elif gridType == '% of total portfolio':\n",
    "        df = pd.read_html('https://www.dataroma.com/m/grid.php?s=p')\n",
    "    elif gridType == 'Last qtr buys':    \n",
    "        df = pd.read_html('https://www.dataroma.com/m/grid.php?s=q')\n",
    "    elif gridType == 'Last 6 months buys':\n",
    "        df = pd.read_html('https://www.dataroma.com/m/grid.php?s=h')\n",
    "    elif gridType == 'Last qtr sells':\n",
    "        df = pd.read_html('https://www.dataroma.com/m/grid.php?s=sq')\n",
    "    elif gridType == 'Last 6 months sells':\n",
    "        df = pd.read_html('https://www.dataroma.com/m/grid.php?s=sh')\n",
    "    dfn = df[0].stack().reset_index(drop=True)\n",
    "    dflst = []\n",
    "    for i in range(len(dfn)):\n",
    "        temp = dfn.iloc[i]\n",
    "        ticker = temp.split(' ')[0] #ticker\n",
    "        try:\n",
    "            holdprice = re.findall(r'\\d+', temp.split(':')[2]) #Hold Price\n",
    "            holdprice = holdprice[0]+'.'+holdprice[1]\n",
    "        except:\n",
    "            holdprice = 0\n",
    "        dfsn = temp.split(\"(\")[1]\n",
    "        industry = dfsn.split(\")\")[0] #Industry\n",
    "        name = temp.split(\"(\")[0].split(' ')[1:] #Company Name\n",
    "        namen = ''\n",
    "        for i in range(len(name)):\n",
    "            namen = namen +' '+name[i]\n",
    "        dfsnn = temp.split(':')[1].split(' ')[1]\n",
    "        ownership = re.findall(r'\\d+', dfsnn) #Ownership\n",
    "        dflst.append({'Ticker': ticker, 'Company': namen, 'Industry': industry, 'Ownership': ownership[0], 'Hold Price': holdprice})\n",
    "    if returnType == 'List':\n",
    "        result = dflst\n",
    "    elif returnType == 'DataFrame':\n",
    "        result = pd.DataFrame()\n",
    "        for i in range(len(dflst)):\n",
    "            finaln = pd.DataFrame(columns=[i],index=['Ticker','Company','Industry','Ownership','Hold Price']).from_dict(dflst[i],orient='index')\n",
    "            finaln.columns = [i]\n",
    "            result[[i]] = finaln\n",
    "    return result "
   ]
  },
  {
   "cell_type": "code",
   "execution_count": 26,
   "metadata": {},
   "outputs": [],
   "source": [
    "grid = sp500Grid('Ownership', 'DataFrame')"
   ]
  },
  {
   "cell_type": "code",
   "execution_count": 28,
   "metadata": {},
   "outputs": [
    {
     "name": "stdout",
     "output_type": "stream",
     "text": [
      "                       0                       1             2    \\\n",
      "Ticker                  FB                   GOOGL           WFC   \n",
      "Company      Facebook Inc.           Alphabet Inc.   Wells Fargo   \n",
      "Industry        Technology  Information Technology    Financials   \n",
      "Ownership               27                      23            22   \n",
      "Hold Price          175.35                 1221.35         26.70   \n",
      "\n",
      "                               3                         4    \\\n",
      "Ticker                        MSFT                     BRK.B   \n",
      "Company            Microsoft Corp.   Berkshire Hathaway CL B   \n",
      "Industry    Information Technology                Financials   \n",
      "Ownership                       21                        20   \n",
      "Hold Price                  175.79                    182.59   \n",
      "\n",
      "                               5                      6    \\\n",
      "Ticker                         BAC                    JPM   \n",
      "Company      Bank of America Corp.   JPMorgan Chase & Co.   \n",
      "Industry                Financials             Financials   \n",
      "Ownership                       19                     17   \n",
      "Hold Price                   22.80                  90.84   \n",
      "\n",
      "                               7                       8           9    ...  \\\n",
      "Ticker                        AMZN                   CMCSA           V  ...   \n",
      "Company               Amazon Corp.           Comcast Corp.   Visa Inc.  ...   \n",
      "Industry    Consumer Discretionary  Consumer Discretionary    Services  ...   \n",
      "Ownership                       16                      16          14  ...   \n",
      "Hold Price                 2155.60                   36.43      170.39  ...   \n",
      "\n",
      "                    490            491         492                493  \\\n",
      "Ticker              TFX            TXT         UDR               ULTA   \n",
      "Company        Teleflex   Textron Inc.    UDR Inc.   Ulta Beauty Inc.   \n",
      "Industry    Industrials    Industrials  Financials           Services   \n",
      "Ownership             0              0           0                  0   \n",
      "Hold Price            0              0           0                  0   \n",
      "\n",
      "                        494           495                496              497  \\\n",
      "Ticker                  URI           VTR                WEC             WELL   \n",
      "Company      United Rentals   Ventas Inc.   Wisconsin Energy   Welltower Inc.   \n",
      "Industry        Industrials    Financials          Utilities      Real Estate   \n",
      "Ownership                 0             0                  0                0   \n",
      "Hold Price                0             0                  0                0   \n",
      "\n",
      "                           498             499  \n",
      "Ticker                    WYNN            ZION  \n",
      "Company      Wynn Resorts Ltd.   Zions Bancorp  \n",
      "Industry              Services      Financials  \n",
      "Ownership                    0               0  \n",
      "Hold Price                   0               0  \n",
      "\n",
      "[5 rows x 500 columns]\n"
     ]
    }
   ],
   "source": [
    "print(grid)"
   ]
  },
  {
   "cell_type": "markdown",
   "metadata": {},
   "source": [
    "Get Grand Portfolio\n",
    "\n",
    "If pulling 'Sector'. Then you should specify a 'sectorType'.\n",
    "\n",
    "If you are looking for holdings, set 'sector' and 'sectorType' to 0."
   ]
  },
  {
   "cell_type": "code",
   "execution_count": 45,
   "metadata": {},
   "outputs": [],
   "source": [
    "#sector = [0,1] Sector allows you to focus on industry type.\n",
    "#sectorType = ['Ownership','Qtr buys','Qtr sells','Qtr net','6 month buys','6 month sells','6 month net'] Filter by.\n",
    "#holdings = ['Holdings','Qtr buys','Qtr sells','6 month buys','6 month sells'] This allows you to choose a filter.\n",
    "#sort = ['Percent','buys/sells','maxBet','Ownership'] This allows you to sort the results by these variables.\n",
    "def grandPortfolio(sector, sectorType, holdings, sort):\n",
    "    if sector == 1:\n",
    "        if sectorType == 'Ownership':\n",
    "            df = pd.read_html('https://www.dataroma.com/m/stats/stats.php')\n",
    "        elif sectorType == 'Qtr buys':\n",
    "            df = pd.read_html('https://www.dataroma.com/m/stats/stats.php?o=b')\n",
    "        elif sectorType == 'Qtr sells':\n",
    "            df = pd.read_html('https://www.dataroma.com/m/stats/stats.php?o=s')            \n",
    "        elif sectorType == 'Qtr net':\n",
    "            df = pd.read_html('https://www.dataroma.com/m/stats/stats.php?o=n')               \n",
    "        elif sectorType == '6 month buys':\n",
    "            df = pd.read_html('https://www.dataroma.com/m/stats/stats.php?o=bh')            \n",
    "        elif sectorType == '6 month sells':\n",
    "            df = pd.read_html('https://www.dataroma.com/m/stats/stats.php?o=sh')             \n",
    "        elif sectorType == '6 month net':\n",
    "            df = pd.read_html('https://www.dataroma.com/m/stats/stats.php?o=nh')   \n",
    "        else:\n",
    "            df = None\n",
    "        return df\n",
    "            \n",
    "    elif sector == 0:\n",
    "        if holdings == 'Holdings':\n",
    "            dfn = pd.DataFrame()\n",
    "            for i in range(15):    \n",
    "                try:\n",
    "                    temp = pd.read_html('https://www.dataroma.com/m/g/portfolio.php?L='+str(i)) #1-15\n",
    "                    dfn = pd.concat([dfn,temp[0]])\n",
    "                except:\n",
    "                    temp = 0\n",
    "            dfn = dfn.reset_index(drop=True).dropna() \n",
    "        elif holdings == 'Qtr buys':\n",
    "            dfn = pd.DataFrame()\n",
    "            for i in range(15):    \n",
    "                try:\n",
    "                    temp = pd.read_html('https://www.dataroma.com/m/g/portfolio_b.php?q=q&L='+str(i)) #1-15\n",
    "                    dfn = pd.concat([dfn,temp[0]])\n",
    "                except:\n",
    "                    temp = 0\n",
    "            dfn = dfn.reset_index(drop=True).dropna()             \n",
    "        elif holdings == 'Qtr sells':\n",
    "            dfn = pd.DataFrame()\n",
    "            for i in range(15):    \n",
    "                try:\n",
    "                    temp = pd.read_html('https://www.dataroma.com/m/g/portfolio_s.php?q=q&L='+str(i)) #1-15\n",
    "                    dfn = pd.concat([dfn,temp[0]])\n",
    "                except:\n",
    "                    temp = 0\n",
    "            dfn = dfn.reset_index(drop=True).dropna()               \n",
    "        elif holdings == '6 month buys':\n",
    "            dfn = pd.DataFrame()\n",
    "            for i in range(15):    \n",
    "                try:\n",
    "                    temp = pd.read_html('https://www.dataroma.com/m/g/portfolio_b.php?q=h&L='+str(i)) #1-15\n",
    "                    dfn = pd.concat([dfn,temp[0]])\n",
    "                except:\n",
    "                    temp = 0\n",
    "            dfn = dfn.reset_index(drop=True).dropna()                \n",
    "        elif holdings == '6 month sells':\n",
    "            dfn = pd.DataFrame()\n",
    "            for i in range(15):    \n",
    "                try:\n",
    "                    temp = pd.read_html('https://www.dataroma.com/m/g/portfolio_b.php?q=h&L='+str(i)) #1-15\n",
    "                    dfn = pd.concat([dfn,temp[0]])\n",
    "                except:\n",
    "                    temp = 0\n",
    "            dfn = dfn.reset_index(drop=True).dropna() \n",
    "        else:\n",
    "            dfn = None\n",
    "              \n",
    "        dfn = dfn.reset_index(drop=True)\n",
    "        \n",
    "        try:\n",
    "            dfn = dfn[~dfn.Symbol.str.contains(\"Next\")]  \n",
    "        except:\n",
    "            pass\n",
    "        \n",
    "        #Reset Column Names\n",
    "        if len(dfn.columns) == 5:\n",
    "            dfn.columns = ['Symbols','Company','%','buys/sells','Hold Price']\n",
    "        elif len(dfn.columns) == 6:    \n",
    "            dfn.columns = ['Symbol','Company','%','Ownership','Hold Price','Max Bet']\n",
    "        #Sort Values\n",
    "        if sort == 'Percent':            \n",
    "            dfn = dfn.sort_values('%',ascending=False)\n",
    "        elif sort == 'buy/sells':\n",
    "            dfn = dfn.sort_values('buys/sells',ascending=False)\n",
    "        elif sort == 'Ownership':\n",
    "            dfn = dfn.sort_values('Ownership',ascending=False)            \n",
    "        elif sort == 'Max Bet':\n",
    "            dfn = dfn.sort_values('Max Bet',ascending=False)              \n",
    "\n",
    "        return dfn"
   ]
  },
  {
   "cell_type": "code",
   "execution_count": 46,
   "metadata": {},
   "outputs": [],
   "source": [
    "gp = grandPortfolio(0, 0, 'Qtr buys', 'Percent')"
   ]
  },
  {
   "cell_type": "code",
   "execution_count": 48,
   "metadata": {},
   "outputs": [
    {
     "name": "stdout",
     "output_type": "stream",
     "text": [
      "   Symbols                           Company      % buys/sells Hold Price\n",
      "0      RTX       Raytheon Technologies Corp.  0.070          3     $86.84\n",
      "32     RTX       Raytheon Technologies Corp.  0.070          3     $86.84\n",
      "33    MSGE  Madison Square Garden Ent. Corp.  0.067          2     $75.00\n",
      "1     MSGE  Madison Square Garden Ent. Corp.  0.067          2     $75.00\n",
      "3      JPM              JPMorgan Chase & Co.  0.047          1     $90.84\n"
     ]
    }
   ],
   "source": [
    "print(gp.head())"
   ]
  },
  {
   "cell_type": "markdown",
   "metadata": {},
   "source": [
    "Get Realtime data\n",
    "\n",
    "This the most recent transactions from the super investors."
   ]
  },
  {
   "cell_type": "code",
   "execution_count": 49,
   "metadata": {},
   "outputs": [],
   "source": [
    "def realTime():\n",
    "    return pd.read_html('https://www.dataroma.com/m/rt.php')[0]"
   ]
  },
  {
   "cell_type": "code",
   "execution_count": 50,
   "metadata": {},
   "outputs": [],
   "source": [
    "rt = realTime()"
   ]
  },
  {
   "cell_type": "code",
   "execution_count": 52,
   "metadata": {},
   "outputs": [
    {
     "name": "stdout",
     "output_type": "stream",
     "text": [
      "  Transaction Date        Filing                   Reporting Name Activity  \\\n",
      "0      07 Aug 2020  07 Aug 20:32                     ICAHN CARL C      Buy   \n",
      "1      06 Aug 2020  07 Aug 20:32                     ICAHN CARL C      Buy   \n",
      "2      05 Aug 2020  07 Aug 20:32                     ICAHN CARL C      Buy   \n",
      "3      03 Aug 2020  05 Aug 16:00  ABRAMS CAPITAL MANAGEMENT, L.P.     Sell   \n",
      "4      04 Aug 2020  04 Aug 20:59           BERKSHIRE HATHAWAY INC      Buy   \n",
      "\n",
      "                     Security   Shares   Price        Total  \n",
      "0         Xerox Holdings Corp   650698  $16.60  $10,801,587  \n",
      "1         Xerox Holdings Corp   456651  $16.27   $7,429,712  \n",
      "2         Xerox Holdings Corp   706086  $16.07  $11,346,802  \n",
      "3  Camping World Holdings Inc   500000  $40.18  $20,091,850  \n",
      "4        BANK OF AMERICA CORP  3754220  $24.97  $93,729,734  \n"
     ]
    }
   ],
   "source": [
    "print(rt.head())"
   ]
  },
  {
   "cell_type": "markdown",
   "metadata": {},
   "source": [
    "Get Activity data\n",
    "\n",
    "This returns the top 10 stocks that the super investors have bought or sold. THis does not specify buying from selling."
   ]
  },
  {
   "cell_type": "code",
   "execution_count": 53,
   "metadata": {},
   "outputs": [],
   "source": [
    "def basicActivity(count):          \n",
    "    df = pd.read_html('https://www.dataroma.com/m/allact.php?typ=a')\n",
    "    df[0].columns = ['Portfolio Manager - Firm', 'Period', '1','2', '3', '4','5', '6', '7','8', '9', '10']\n",
    "    return Counter(list(df[0].iloc[:,2:].stack())).most_common(count)"
   ]
  },
  {
   "cell_type": "code",
   "execution_count": 54,
   "metadata": {},
   "outputs": [],
   "source": [
    "ba = basicActivity(10)"
   ]
  },
  {
   "cell_type": "code",
   "execution_count": 55,
   "metadata": {},
   "outputs": [
    {
     "name": "stdout",
     "output_type": "stream",
     "text": [
      "[('FB', 13), ('GOOGL', 12), ('BRK.B', 10), ('GOOG', 10), ('AMZN', 7), ('V', 6), ('MSFT', 6), ('JPM', 6), ('JNJ', 5), ('UNH', 5)]\n"
     ]
    }
   ],
   "source": [
    "print(ba)"
   ]
  },
  {
   "cell_type": "code",
   "execution_count": null,
   "metadata": {},
   "outputs": [],
   "source": []
  }
 ],
 "metadata": {
  "kernelspec": {
   "display_name": "Python 3",
   "language": "python",
   "name": "python3"
  },
  "language_info": {
   "codemirror_mode": {
    "name": "ipython",
    "version": 3
   },
   "file_extension": ".py",
   "mimetype": "text/x-python",
   "name": "python",
   "nbconvert_exporter": "python",
   "pygments_lexer": "ipython3",
   "version": "3.7.1"
  }
 },
 "nbformat": 4,
 "nbformat_minor": 4
}
