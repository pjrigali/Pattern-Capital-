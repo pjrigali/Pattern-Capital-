{
 "cells": [
  {
   "cell_type": "markdown",
   "metadata": {},
   "source": [
    "# Find Best Distribution and Parameters"
   ]
  },
  {
   "cell_type": "code",
   "execution_count": null,
   "metadata": {},
   "outputs": [],
   "source": [
    "Load Modules"
   ]
  },
  {
   "cell_type": "code",
   "execution_count": null,
   "metadata": {},
   "outputs": [],
   "source": [
    "import warnings\n",
    "import numpy as np\n",
    "import pandas as pd\n",
    "import scipy.stats as st\n",
    "import matplotlib\n",
    "import matplotlib.pyplot as plt\n",
    "from tqdm import tqdm"
   ]
  },
  {
   "cell_type": "code",
   "execution_count": null,
   "metadata": {},
   "outputs": [],
   "source": [
    "matplotlib.rcParams['figure.figsize'] = (16.0, 12.0)\n",
    "matplotlib.style.use('ggplot')"
   ]
  },
  {
   "cell_type": "markdown",
   "metadata": {},
   "source": [
    "Load Data\n",
    "\n",
    "Data for this example is price history."
   ]
  },
  {
   "cell_type": "code",
   "execution_count": null,
   "metadata": {},
   "outputs": [],
   "source": [
    "whole = pd.read_csv('C:\\\\Users\\\\SPY_IntraDayPriceFIXED.csv')\n",
    "\n",
    "arr = whole['PRICE'].pct_change().dropna()"
   ]
  },
  {
   "cell_type": "markdown",
   "metadata": {},
   "source": [
    "Build Definition"
   ]
  },
  {
   "cell_type": "code",
   "execution_count": null,
   "metadata": {},
   "outputs": [],
   "source": [
    "def fit_scipy_distributions(array, bins, plot_hist = False, plot_best_fit = False, plot_all_fits = False):\n",
    "    \"\"\"\n",
    "    Fits a range of Scipy's distributions (see scipy.stats) against an array-like input.\n",
    "    Returns the sum of squared error (SSE) between the fits and the actual distribution.\n",
    "    Can also choose to plot the array's histogram along with the computed fits.\n",
    "    N.B. Modify the \"CHANGE IF REQUIRED\" comments!\n",
    "    \n",
    "    Input: array - array-like input\n",
    "           bins - number of bins wanted for the histogram\n",
    "           plot_hist - boolean, whether you want to show the histogram\n",
    "           plot_best_fit - boolean, whether you want to overlay the plot of the best fitting distribution\n",
    "           plot_all_fits - boolean, whether you want to overlay ALL the fits (can be messy!)\n",
    "    \n",
    "    Returns: results - dataframe with SSE and distribution name, in ascending order (i.e. best fit first)\n",
    "             best_name - string with the name of the best fitting distribution\n",
    "             best_params - list with the parameters of the best fitting distribution.\n",
    "    \"\"\"\n",
    "    \n",
    "    if plot_best_fit or plot_all_fits:\n",
    "        assert plot_hist, \"plot_hist must be True if setting plot_best_fit or plot_all_fits to True\"\n",
    "    \n",
    "    # Returns un-normalised (i.e. counts) histogram\n",
    "    y, x = np.histogram(np.array(array), bins=bins)\n",
    "    \n",
    "    # Some details about the histogram\n",
    "    bin_width = x[1]-x[0]\n",
    "    N = len(array)\n",
    "    x_mid = (x + np.roll(x, -1))[:-1] / 2.0 # go from bin edges to bin middles\n",
    "    \n",
    "    # selection of available distributions\n",
    "    # CHANGE THIS IF REQUIRED: Less items will be quicker.\n",
    "    #DISTRIBUTIONS = [st.alpha,st.cauchy,st.cosine,st.laplace,st.levy,st.levy_l,st.norm]\n",
    "    DISTRIBUTIONS = [        \n",
    "        st.alpha,st.burr,st.cauchy,st.chi,st.chi2,st.cosine,\n",
    "        st.dgamma,st.dweibull,st.erlang,st.expon,st.exponnorm,st.exponweib,st.exponpow,st.f,st.fatiguelife,st.fisk,\n",
    "        st.foldcauchy,st.foldnorm,st.genlogistic,st.genpareto,st.gennorm,st.genexpon,\n",
    "        st.genextreme,st.gausshyper,st.gamma,st.gengamma,st.genhalflogistic,st.gilbrat,st.gompertz,st.gumbel_r,\n",
    "        st.gumbel_l,st.halfcauchy,st.halflogistic,st.halfnorm,st.halfgennorm,st.hypsecant,st.invgamma,st.invgauss,\n",
    "        st.invweibull,st.johnsonsb,st.johnsonsu,st.ksone,st.kstwobign,st.laplace,\n",
    "        st.logistic,st.loggamma,st.loglaplace,st.lognorm,st.lomax,st.maxwell,st.mielke,st.nakagami,st.ncx2,st.ncf,\n",
    "        st.nct,st.norm,st.pareto,st.pearson3,st.powerlaw,st.powerlognorm,st.powernorm,st.rdist,st.reciprocal,\n",
    "        st.rayleigh,st.rice,st.recipinvgauss,st.t,st.vonmises,st.vonmises_line,st.wald,st.weibull_min,st.weibull_max,st.wrapcauchy\n",
    "    ]\n",
    "\n",
    "    if plot_hist:\n",
    "        fig, ax = plt.subplots()\n",
    "        h = ax.hist(np.array(array), bins = bins, color = 'w')\n",
    "\n",
    "    # loop through the distributions and store the sum of squared errors\n",
    "    # so we know which one eventually will have the best fit\n",
    "    sses = []\n",
    "    for dist in tqdm(DISTRIBUTIONS):\n",
    "        name = dist.__class__.__name__[:-4]\n",
    "\n",
    "        params = dist.fit(np.array(array))\n",
    "        arg = params[:-2]\n",
    "        loc = params[-2]\n",
    "        scale = params[-1]\n",
    "\n",
    "        pdf = dist.pdf(x_mid, loc=loc, scale=scale, *arg)\n",
    "        pdf_scaled = pdf * bin_width * N # to go from pdf back to counts need to un-normalise the pdf\n",
    "\n",
    "        sse = np.sum((y - pdf_scaled)**2)\n",
    "        sses.append([sse, name])\n",
    "\n",
    "        # Not strictly necessary to plot, but pretty patterns\n",
    "        if plot_all_fits:\n",
    "            ax.plot(x_mid, pdf_scaled, label = name)\n",
    "    \n",
    "    if plot_all_fits:\n",
    "        plt.legend(loc=1)\n",
    "\n",
    "    # CHANGE THIS IF REQUIRED\n",
    "    ax.set_xlabel('Percent Change')\n",
    "    ax.set_ylabel('Count')\n",
    "\n",
    "    # Things to return - df of SSE and distribution name, the best distribution and its parameters\n",
    "    results = pd.DataFrame(sses, columns = ['SSE','distribution']).sort_values(by='SSE') \n",
    "    best_name = results.iloc[0]['distribution']\n",
    "    best_dist = getattr(st, best_name)\n",
    "    best_params = best_dist.fit(np.array(array))\n",
    "    \n",
    "    if plot_best_fit:\n",
    "        new_x = np.linspace(x_mid[0] - (bin_width * 2), x_mid[-1] + (bin_width * 2), 1000)\n",
    "        best_pdf = best_dist.pdf(new_x, *best_params[:-2], loc=best_params[-2], scale=best_params[-1])\n",
    "        best_pdf_scaled = best_pdf * bin_width * N\n",
    "        ax.plot(new_x, best_pdf_scaled, label = best_name)\n",
    "        plt.legend(loc=1)\n",
    "    \n",
    "    if plot_hist:\n",
    "        plt.show()\n",
    "\n",
    "    return results, best_name, best_params"
   ]
  },
  {
   "cell_type": "code",
   "execution_count": null,
   "metadata": {},
   "outputs": [],
   "source": [
    "test_array = np.array(whole['PRICE'].pct_change().dropna())\n",
    "sses, best_name, best_params = fit_scipy_distributions(test_array, 100, plot_hist = True, plot_best_fit=True, plot_all_fits=False)"
   ]
  },
  {
   "cell_type": "markdown",
   "metadata": {},
   "source": [
    "best_name: 'dgamma'\n",
    "best_params: (0.6607683647053637, 2.650034865769867e-06, 0.0005753356628344494)\n",
    "sses: Returns a DataFrame with two columns {SSE: Sum of Square Errors, distribution: Name of distribution}"
   ]
  },
  {
   "cell_type": "code",
   "execution_count": null,
   "metadata": {},
   "outputs": [],
   "source": []
  }
 ],
 "metadata": {
  "kernelspec": {
   "display_name": "Python 3",
   "language": "python",
   "name": "python3"
  },
  "language_info": {
   "codemirror_mode": {
    "name": "ipython",
    "version": 3
   },
   "file_extension": ".py",
   "mimetype": "text/x-python",
   "name": "python",
   "nbconvert_exporter": "python",
   "pygments_lexer": "ipython3",
   "version": "3.7.1"
  }
 },
 "nbformat": 4,
 "nbformat_minor": 4
}
