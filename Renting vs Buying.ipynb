{
 "cells": [
  {
   "cell_type": "markdown",
   "metadata": {},
   "source": [
    "# Renting or Buying a Home"
   ]
  },
  {
   "cell_type": "markdown",
   "metadata": {},
   "source": [
    "The idea of this analysis is to compare the long term wealth growth of owning a home verse renting."
   ]
  },
  {
   "cell_type": "markdown",
   "metadata": {},
   "source": [
    "Load Modules"
   ]
  },
  {
   "cell_type": "code",
   "execution_count": 1,
   "metadata": {},
   "outputs": [],
   "source": [
    "import pandas as pd\n",
    "from datetime import date\n",
    "import numpy as np\n",
    "import matplotlib.pyplot as plt  \n",
    "import warnings\n",
    "warnings.filterwarnings(\"ignore\")\n",
    "pd.set_option('display.max_columns', None)"
   ]
  },
  {
   "cell_type": "markdown",
   "metadata": {},
   "source": [
    "General Inputs"
   ]
  },
  {
   "cell_type": "code",
   "execution_count": 2,
   "metadata": {},
   "outputs": [],
   "source": [
    "gen_inputs = {\n",
    "    'income' : 75000, #US average = $57,238\n",
    "    'income_raise_rate' : .033, #US average = 3.30%\n",
    "    'market_return' : .092, #US average = 9.20%\n",
    "    'monthly_cost_of_living' : 1459, #US average = $1459    \n",
    "    'cost_of_living_rate' : .0322, #US average = 3.22%\n",
    "    'start_date' : date.today() #datetime.date(yyyy,m,d)\n",
    "    }"
   ]
  },
  {
   "cell_type": "markdown",
   "metadata": {},
   "source": [
    "Home Buying Inputs"
   ]
  },
  {
   "cell_type": "code",
   "execution_count": 3,
   "metadata": {},
   "outputs": [],
   "source": [
    "own_inputs = {\n",
    "    'home_value' : 225000, #US average = $325,000\n",
    "    'down_payment' : 25000, #US average = 5% of Home Value\n",
    "    'starting_loan_amount' : 200000, \n",
    "    'loan_interest_rate' : .0375,\n",
    "    'home_price_rate' : .03, #US average = 1.5% to 4.8%\n",
    "    'years' : 30, \n",
    "    'propetry_taxes' : 275, #US average = 6.786% of home value (Chicago)\n",
    "    'home_insurance' : 75, \n",
    "    'additional_principle' : 500,\n",
    "    'home_maintence' : 2000, #US average = $2,000 to $8,000\n",
    "    'hoa_fee' : 342, #US average = $342\n",
    "    'hoa_rate' : .059, #US average = 5.90%\n",
    "    'buying_costs' : 11250, #US average = 2% to 5% of Home Value\n",
    "    'closing_costs' : 16000, #US average = $16,000\n",
    "    'portfolio_balance' : 0, \n",
    "    'savings_rate' : .079, #US average = 7.90%\n",
    "    'rental_income' : 1500, #US average = \n",
    "    }"
   ]
  },
  {
   "cell_type": "markdown",
   "metadata": {},
   "source": [
    "Renting Inputs"
   ]
  },
  {
   "cell_type": "code",
   "execution_count": 4,
   "metadata": {},
   "outputs": [],
   "source": [
    "rent_inputs = {\n",
    "    'monthly_rent' : 1175, #US average = $1,943 (Chicago)\n",
    "    'rent_inflation_rate' : .02, #US average = 2.0%\n",
    "    'portfolio_balance' : 25000, \n",
    "    'personal_savings_rate' : .50, #US average = 7.90%\n",
    "    }"
   ]
  },
  {
   "cell_type": "code",
   "execution_count": 5,
   "metadata": {},
   "outputs": [],
   "source": [
    "#Supplemental DataFrames \n",
    "#Example uses tax information for Chicago.\n",
    "taxdf = pd.DataFrame(columns=['Pay','Tax Rate'])\n",
    "taxdf['Pay'] = [10000,20000,30000,40000,50000,60000,70000,80000,90000,100000,110000, 120000, 130000, 140000, 150000, 160000, 170000, 180000, 190000, 200000, 250000]\n",
    "taxdf['Pay'] = taxdf['Pay'].astype(float)\n",
    "taxdf['Tax Rate'] = [.1147, .1594, .1870, .2017, .2106, .2304, .2469, .2593, .2689, .2773, .2854, .2921, .2978, .2995, .2998, .3001, .3003, .3037, .3079, .3117, .3320]\n",
    "\n",
    "hometax = pd.DataFrame(columns=['Local','Amount'])\n",
    "hometax['Local'] = ['State','County','Chicago']\n",
    "hometax['Amount'] = [1,0.5,3]\n",
    "\n",
    "capitaltax = pd.DataFrame(columns=['Income','Rate'])\n",
    "capitaltax['Income'] = [40000,441450,44151]\n",
    "capitaltax['Rate'] = [0,.15,.20]\n"
   ]
  },
  {
   "cell_type": "markdown",
   "metadata": {},
   "source": [
    "Functions"
   ]
  },
  {
   "cell_type": "code",
   "execution_count": 6,
   "metadata": {},
   "outputs": [],
   "source": [
    "#Functions\n",
    "def growthCalc(data,item,rate):\n",
    "    tempincome = item\n",
    "    nincome = [[item]]*12\n",
    "    for i in range(int((len(data)/12)-1)):\n",
    "        tempincome = round(tempincome + (rate*tempincome),2)\n",
    "        nincome.append([tempincome]*12)\n",
    "    return sum(nincome,[])  \n",
    "\n",
    "def marketRet(data,start,rate):\n",
    "    portlst = []\n",
    "    yearmarks = [12*i for i in list(range(own_inputs['years']))]\n",
    "    port = start\n",
    "    for i in range(len(data)):\n",
    "        if i in yearmarks:\n",
    "            port = port + data['Savings'].iloc[i]\n",
    "            port = port + (port*rate)\n",
    "            portlst.append(round(port,2))\n",
    "        else:\n",
    "            port = port + data['Savings'].iloc[i]\n",
    "            portlst.append(round(port,2))\n",
    "    return portlst     \n",
    "\n",
    "def capitalTax(data):\n",
    "    if data - 441450 > 0: tax20 = (data-441451)*.20\n",
    "    else: tax20 = 0\n",
    "    if data - 40000 > 0: tax15 = (data - 40000)*.15\n",
    "    else: tax15 = 0\n",
    "    return round(data - tax20 - tax15,2)\n",
    "\n",
    "def rent_own_Calcs(gen,own,rent,printn):\n",
    "    #General DataFrame\n",
    "    rng = pd.date_range(gen['start_date'], periods=own['years'] * 12, freq='MS')\n",
    "    rng.name = \"Date\"\n",
    "    gdf = pd.DataFrame(index=rng,columns=['Income', 'Taxes', 'Monthly Income', 'Cost of Living'], dtype='float')\n",
    "    gdf.reset_index(inplace=True)\n",
    "    gdf.index += 1\n",
    "    gdf.index.name = \"Period\"\n",
    "    gdf['Income'] = growthCalc(gdf,gen['income'],gen['income_raise_rate'])\n",
    "    gdf['Cost of Living'] = growthCalc(gdf,gen['monthly_cost_of_living'],gen['cost_of_living_rate'])\n",
    "    gdf['Taxes'] = [taxdf[taxdf['Pay'] == i]['Tax Rate'].item() for i in list(round(gdf['Income'],-4))]\n",
    "    gdf['Monthly Income'] = round((gdf['Income'] - (gdf['Income']*gdf['Taxes']))/12,2)\n",
    "\n",
    "#Renting DataFrame\n",
    "    rng = pd.date_range(gen['start_date'], periods=own['years'] * 12, freq='MS')\n",
    "    rng.name = \"Date\"\n",
    "    rdf = pd.DataFrame(index=rng,columns=['Rent', 'After Rent and Living','Savings', 'After Savings', 'Portfolio Value'], dtype='float')\n",
    "    rdf.reset_index(inplace=True)\n",
    "    rdf.index += 1\n",
    "    rdf.index.name = \"Period\"\n",
    "    rdf['Rent'] = growthCalc(rdf,rent['monthly_rent'],rent['rent_inflation_rate'])\n",
    "    rdf['After Rent and Living'] = gdf['Monthly Income'] - gdf['Cost of Living'] - rdf['Rent']\n",
    "    rdf['Savings'] = rdf['After Rent and Living']*rent['personal_savings_rate']\n",
    "    rdf['After Savings'] = rdf['After Rent and Living'] - rdf['Savings']\n",
    "    rdf['Portfolio Value'] = marketRet(rdf,rent['portfolio_balance'],gen['market_return'])\n",
    "\n",
    "    #Home Buying DataFrame\n",
    "    monthly_applied_loan = np.pmt(own['loan_interest_rate']/12,own['years']*12,own['starting_loan_amount'])*-1\n",
    "    monthly_minimum_payments = monthly_applied_loan + own['propetry_taxes'] + own['home_insurance'] + own['additional_principle']\n",
    "\n",
    "    rng = pd.date_range(gen['start_date'], periods=own['years'] * 12, freq='MS')\n",
    "    rng.name = \"Payment_Date\"\n",
    "    df = pd.DataFrame(index=rng,columns=['Payment', 'Principal', 'Interest', 'Addl_Principal', 'Balance'], dtype='float')\n",
    "    df.reset_index(inplace=True)\n",
    "    df.index += 1\n",
    "    df.index.name = \"Period\"\n",
    "    df[\"Payment\"] = np.pmt(own['loan_interest_rate']/12, own['years']*12, own['starting_loan_amount'])\n",
    "    df[\"Principal\"] = np.ppmt(own['loan_interest_rate']/12, df.index, own['years']*12, own['starting_loan_amount'])\n",
    "    df[\"Interest\"] = np.ipmt(own['loan_interest_rate']/12, df.index, own['years']*12, own['starting_loan_amount'])\n",
    "    df[\"Addl_Principal\"] = -own['additional_principle']\n",
    "    df[\"Balance\"] = 0\n",
    "    df.loc[1, \"Balance\"] = own['starting_loan_amount'] + df.loc[1, \"Principal\"] + df.loc[1, \"Addl_Principal\"]\n",
    "\n",
    "    for i in range(2, len(df)+1):\n",
    "        # Get the previous balance as well as current payments\n",
    "        prev_balance = df.loc[i-1, 'Balance']\n",
    "        principal = df.loc[i, 'Principal']\n",
    "        addl_principal = df.loc[i, \"Addl_Principal\"]\n",
    "\n",
    "        # If there is no balance, then do 0 out the principal and interest\n",
    "        if prev_balance == 0:\n",
    "            df.loc[i, ['Payment', 'Principal', 'Interest', 'Balance', 'Addl_Principal']] = 0\n",
    "            continue\n",
    "\n",
    "        # If this payment does not pay it off, reduce the balance\n",
    "        if abs(principal + addl_principal) <= prev_balance:\n",
    "            df.loc[i, 'Balance'] = principal + prev_balance + addl_principal\n",
    "\n",
    "        # If it does pay it off, zero out the balance and adjust the final payment\n",
    "        else:\n",
    "            # Just adjust the principal down\n",
    "            if prev_balance <= abs(principal):\n",
    "                principal = -prev_balance\n",
    "                addl_principal = 0\n",
    "            else:\n",
    "                addl_principal = (prev_balance - abs(monthly_applied_loan))\n",
    "            df.loc[i, 'Balance'] = 0\n",
    "            df.loc[i, 'Principal'] = principal\n",
    "            df.loc[i, 'Addl_Principal'] = addl_principal\n",
    "            df.loc[i, \"Payment\"] = principal +  df.loc[i, \"Interest\"]\n",
    "\n",
    "    df = df.round(2)\n",
    "\n",
    "    #Additional Home Buying DataFrame\n",
    "    df['Taxes'] = own['propetry_taxes']\n",
    "    df['HOA Fee'] = growthCalc(df,own['hoa_fee'],own['hoa_rate'])\n",
    "    df['Insurance'] = own['home_insurance']\n",
    "    df['Maintence'] = own['home_maintence']\n",
    "    df['Monthly Total'] = (df['Payment']*-1) + df['Taxes'] + df['HOA Fee'] + df['Insurance'] + df['Maintence'] \n",
    "    df['Home Appr'] = growthCalc(df,own['home_value'],own['home_price_rate'])\n",
    "    df['Rental Income'] = growthCalc(df,own['rental_income'],rent['rent_inflation_rate'])\n",
    "    df['Rental Income Tax Rate'] = [taxdf[taxdf['Pay'] == i]['Tax Rate'].item() if i < 200000 else .3320 for i in list(round(((df['Rental Income']*12)+gdf['Income']),-4))]\n",
    "    df['After Fixed and Living Costs'] = gdf['Monthly Income'] - gdf['Cost of Living'] - df['Monthly Total'] + round(df['Rental Income'] - (df['Rental Income']*df['Rental Income Tax Rate']),2)\n",
    "    df['Savings'] = df['After Fixed and Living Costs']*own['savings_rate']\n",
    "    df['Income After Savings'] = df['After Fixed and Living Costs'] - df['Savings']\n",
    "    df['Portfolio Value'] = marketRet(df,own['portfolio_balance'],gen['market_return'])\n",
    "\n",
    "    #Remove periods after paid off\n",
    "    indexNames = df[df['Principal'] == 0.0 ].index\n",
    "    df.drop(indexNames , inplace=True)\n",
    "    gdf.drop(indexNames , inplace=True)\n",
    "    rdf.drop(indexNames , inplace=True)\n",
    "\n",
    "    #Profitablilty Analysis\n",
    "    home_port_return = capitalTax(round(df['Portfolio Value'].iloc[-1] - own['portfolio_balance'] - sum(df['Savings']),2))\n",
    "    home_return = round(df['Home Appr'].iloc[-1] - ((df['Home Appr'].iloc[-1]/1000)*sum(hometax['Amount']) + own['home_value'] + own['buying_costs'] + own['closing_costs']),2)\n",
    "    print(' ')\n",
    "    print('Return from Ownership: $',home_port_return + home_return)\n",
    "    rent_port_return = capitalTax(rdf['Portfolio Value'].iloc[-1] - rent['portfolio_balance'] - sum(rdf['Savings']))\n",
    "    print('Return from Renting: $',rent_port_return)\n",
    "    print(' ')\n",
    "    print('Paid off in :', len(df)/12,' years')\n",
    "\n",
    "    if printn == 1:\n",
    "        plt.plot(rdf['Portfolio Value'],label='Renting')\n",
    "        plt.plot(df['Portfolio Value']+df['Home Appr']-own['home_value'],label='Ownership (Including Home Appr.)')\n",
    "        plt.title('Portfolio Value')\n",
    "        plt.legend()\n",
    "        plt.show()\n",
    "\n",
    "        plt.plot(df['Monthly Total'],label='Total Monthly Payments')\n",
    "        plt.plot(df['After Fixed and Living Costs'],label='After Loan and Living')\n",
    "        plt.plot(df['Savings'],label='Savings')\n",
    "        plt.plot(df['Income After Savings'],label='Left over after Fixed Costs')\n",
    "        plt.title('Ownership')\n",
    "        plt.legend()\n",
    "        plt.show()\n",
    "\n",
    "        plt.plot(rdf['Rent'],label='Rent')\n",
    "        plt.plot(rdf['After Rent and Living'],label='After Rent and Living')\n",
    "        plt.plot(rdf['Savings'],label='Savings')\n",
    "        plt.plot(rdf['After Savings'],label='Left over after Fixed Costs')\n",
    "        plt.title('Renting')\n",
    "        plt.legend()\n",
    "        plt.show()\n",
    "        \n",
    "        plt.plot(gdf['Monthly Income'],label='Monthly Income after Tax')\n",
    "        plt.plot(gdf['Cost of Living'],label='Cost of Living')\n",
    "        plt.plot(rdf['After Rent and Living']+gdf['Cost of Living'],label='After Rent and Living')\n",
    "        plt.plot(df['After Fixed and Living Costs']+gdf['Cost of Living'],label='After Loan and Living')\n",
    "        plt.title('General')\n",
    "        plt.legend()\n",
    "        plt.show()\n",
    "    \n",
    "    return [[home_return,rent_port_return],[gdf,df,rdf]]"
   ]
  },
  {
   "cell_type": "code",
   "execution_count": 7,
   "metadata": {},
   "outputs": [
    {
     "name": "stdout",
     "output_type": "stream",
     "text": [
      " \n",
      "Return from Ownership: $ 143358.14\n",
      "Return from Renting: $ 381951.22\n",
      " \n",
      "Paid off in : 18.0  years\n"
     ]
    },
    {
     "data": {
      "image/png": "[encoded data removed]",
      "text/plain": [
       "<Figure size 432x288 with 1 Axes>"
      ]
     },
     "metadata": {
      "needs_background": "light"
     },
     "output_type": "display_data"
    },
    {
     "data": {
      "image/png": "[encoded data removed]",
      "text/plain": [
       "<Figure size 432x288 with 1 Axes>"
      ]
     },
     "metadata": {
      "needs_background": "light"
     },
     "output_type": "display_data"
    },
    {
     "data": {
      "image/png": "[encoded data removed]",
      "text/plain": [
       "<Figure size 432x288 with 1 Axes>"
      ]
     },
     "metadata": {
      "needs_background": "light"
     },
     "output_type": "display_data"
    },
    {
     "data": {
      "image/png": "[encoded data removed]",
      "text/plain": [
       "<Figure size 432x288 with 1 Axes>"
      ]
     },
     "metadata": {
      "needs_background": "light"
     },
     "output_type": "display_data"
    }
   ],
   "source": [
    "r_o = rent_own_Calcs(gen_inputs, own_inputs, rent_inputs,1)"
   ]
  },
  {
   "cell_type": "code",
   "execution_count": 8,
   "metadata": {},
   "outputs": [
    {
     "data": {
      "text/plain": [
       "[117967.22, 381951.22]"
      ]
     },
     "execution_count": 8,
     "metadata": {},
     "output_type": "execute_result"
    }
   ],
   "source": [
    "r_o[0]"
   ]
  },
  {
   "cell_type": "code",
   "execution_count": 9,
   "metadata": {},
   "outputs": [
    {
     "name": "stdout",
     "output_type": "stream",
     "text": [
      "Starting\n",
      " \n",
      "Date              2020-09-01 00:00:00\n",
      "Income                          75000\n",
      "Taxes                          0.2593\n",
      "Monthly Income                4629.38\n",
      "Cost of Living                   1459\n",
      "Name: 1, dtype: object\n",
      " \n",
      "Ending\n",
      " \n",
      "Date              2038-08-01 00:00:00\n",
      "Income                         130247\n",
      "Taxes                          0.2978\n",
      "Monthly Income                 7621.6\n",
      "Cost of Living                 2500.6\n",
      "Name: 216, dtype: object\n"
     ]
    }
   ],
   "source": [
    "#General DataFrame\n",
    "print('Starting')\n",
    "print(' ')\n",
    "print(r_o[1][0].iloc[0])\n",
    "print(' ')\n",
    "print('Ending')\n",
    "print(' ')\n",
    "print(r_o[1][0].iloc[-1])"
   ]
  },
  {
   "cell_type": "code",
   "execution_count": 10,
   "metadata": {},
   "outputs": [
    {
     "name": "stdout",
     "output_type": "stream",
     "text": [
      "Starting\n",
      " \n",
      "Payment_Date                    2020-09-01 00:00:00\n",
      "Payment                                     -926.23\n",
      "Principal                                   -301.23\n",
      "Interest                                       -625\n",
      "Addl_Principal                                 -500\n",
      "Balance                                      199199\n",
      "Taxes                                           275\n",
      "HOA Fee                                         342\n",
      "Insurance                                        75\n",
      "Maintence                                      2000\n",
      "Monthly Total                               3618.23\n",
      "Home Appr                                    225000\n",
      "Rental Income                                  1500\n",
      "Rental Income Tax Rate                       0.2689\n",
      "After Fixed and Living Costs                  648.8\n",
      "Savings                                     51.2552\n",
      "Income After Savings                        597.545\n",
      "Portfolio Value                               55.97\n",
      "Name: 1, dtype: object\n",
      " \n",
      "Ending\n",
      " \n",
      "Payment_Date                    2038-08-01 00:00:00\n",
      "Payment                                     -698.41\n",
      "Principal                                   -361.35\n",
      "Interest                                    -337.07\n",
      "Addl_Principal                                    0\n",
      "Balance                                           0\n",
      "Taxes                                           275\n",
      "HOA Fee                                      906.28\n",
      "Insurance                                        75\n",
      "Maintence                                      2000\n",
      "Monthly Total                               3954.69\n",
      "Home Appr                                    371891\n",
      "Rental Income                               2100.35\n",
      "Rental Income Tax Rate                       0.3001\n",
      "After Fixed and Living Costs                2636.34\n",
      "Savings                                     208.271\n",
      "Income After Savings                        2428.07\n",
      "Portfolio Value                             50942.4\n",
      "Name: 216, dtype: object\n"
     ]
    }
   ],
   "source": [
    "#Ownership DataFrame\n",
    "print('Starting')\n",
    "print(' ')\n",
    "print(r_o[1][1].iloc[0])\n",
    "print(' ')\n",
    "print('Ending')\n",
    "print(' ')\n",
    "print(r_o[1][1].iloc[-1])"
   ]
  },
  {
   "cell_type": "code",
   "execution_count": 11,
   "metadata": {},
   "outputs": [
    {
     "name": "stdout",
     "output_type": "stream",
     "text": [
      "Starting\n",
      " \n",
      "Date                     2020-09-01 00:00:00\n",
      "Rent                                    1175\n",
      "After Rent and Living                1995.38\n",
      "Savings                               997.69\n",
      "After Savings                         997.69\n",
      "Portfolio Value                      28389.5\n",
      "Name: 1, dtype: object\n",
      " \n",
      "Ending\n",
      " \n",
      "Date                     2038-08-01 00:00:00\n",
      "Rent                                 1645.28\n",
      "After Rent and Living                3475.72\n",
      "Savings                              1737.86\n",
      "After Savings                        1737.86\n",
      "Portfolio Value                       758120\n",
      "Name: 216, dtype: object\n"
     ]
    }
   ],
   "source": [
    "#Renting DataFrame\n",
    "print('Starting')\n",
    "print(' ')\n",
    "print(r_o[1][2].iloc[0])\n",
    "print(' ')\n",
    "print('Ending')\n",
    "print(' ')\n",
    "print(r_o[1][2].iloc[-1])"
   ]
  }
 ],
 "metadata": {
  "kernelspec": {
   "display_name": "Python 3",
   "language": "python",
   "name": "python3"
  },
  "language_info": {
   "codemirror_mode": {
    "name": "ipython",
    "version": 3
   },
   "file_extension": ".py",
   "mimetype": "text/x-python",
   "name": "python",
   "nbconvert_exporter": "python",
   "pygments_lexer": "ipython3",
   "version": "3.7.1"
  }
 },
 "nbformat": 4,
 "nbformat_minor": 4
}
